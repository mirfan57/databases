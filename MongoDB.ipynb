{
 "cells": [
  {
   "cell_type": "code",
   "execution_count": 1,
   "id": "1194d2bc",
   "metadata": {},
   "outputs": [
    {
     "name": "stdout",
     "output_type": "stream",
     "text": [
      "Collecting pymongo\n",
      "  Downloading pymongo-4.1.1-cp38-cp38-win_amd64.whl (365 kB)\n",
      "Installing collected packages: pymongo\n",
      "Successfully installed pymongo-4.1.1\n"
     ]
    }
   ],
   "source": [
    "!python -m pip install pymongo"
   ]
  },
  {
   "cell_type": "markdown",
   "id": "9002c64c",
   "metadata": {},
   "source": [
    "#### STEP 1: Create a DB"
   ]
  },
  {
   "cell_type": "code",
   "execution_count": 2,
   "id": "a1a6b645",
   "metadata": {},
   "outputs": [
    {
     "data": {
      "text/plain": [
       "MongoClient(host=['localhost:27017'], document_class=dict, tz_aware=False, connect=True)"
      ]
     },
     "execution_count": 2,
     "metadata": {},
     "output_type": "execute_result"
    }
   ],
   "source": [
    "import pymongo\n",
    "client = pymongo.MongoClient(\"mongodb://localhost:27017/\")   # my connection\n",
    "client"
   ]
  },
  {
   "cell_type": "code",
   "execution_count": 3,
   "id": "aaeabc21",
   "metadata": {},
   "outputs": [
    {
     "data": {
      "text/plain": [
       "Database(MongoClient(host=['localhost:27017'], document_class=dict, tz_aware=False, connect=True), 'mohai')"
      ]
     },
     "execution_count": 3,
     "metadata": {},
     "output_type": "execute_result"
    }
   ],
   "source": [
    "# create a database\n",
    "dataBase = client[\"mohai\"]\n",
    "dataBase"
   ]
  },
  {
   "cell_type": "code",
   "execution_count": 6,
   "id": "8c95de60",
   "metadata": {},
   "outputs": [
    {
     "data": {
      "text/plain": [
       "Collection(Database(MongoClient(host=['localhost:27017'], document_class=dict, tz_aware=False, connect=True), 'mohai'), 'test')"
      ]
     },
     "execution_count": 6,
     "metadata": {},
     "output_type": "execute_result"
    }
   ],
   "source": [
    "# create a collection\n",
    "collection = dataBase[\"test\"]  # it will create this 'test' collection if it is not available.\n",
    "collection"
   ]
  },
  {
   "cell_type": "markdown",
   "id": "28775a5d",
   "metadata": {},
   "source": [
    "###### Collection is a bunch of heterogeneous data but table is a kind of structured data.\n",
    "###### But collection in MongoDB is equivalent to table in MySQL."
   ]
  },
  {
   "cell_type": "code",
   "execution_count": null,
   "id": "d1f6186d",
   "metadata": {},
   "outputs": [],
   "source": [
    "Whenever you want to insert data in mongodb you have to create a dictionary or key-value pair kind of format."
   ]
  },
  {
   "cell_type": "code",
   "execution_count": 8,
   "id": "46cadcc5",
   "metadata": {},
   "outputs": [
    {
     "data": {
      "text/plain": [
       "<pymongo.results.InsertOneResult at 0x1f373e3dd60>"
      ]
     },
     "execution_count": 8,
     "metadata": {},
     "output_type": "execute_result"
    }
   ],
   "source": [
    "record = {'companyName' : 'ineuron' , 'product': 'Affordable AI', 'courseOffered' : 'DL for Computer Vision'}\n",
    "collection.insert_one(record)\n",
    "\n",
    "# if you execute the same command again and again, then multiple records will be available in test collection but with different IDs"
   ]
  },
  {
   "cell_type": "markdown",
   "id": "137f92c3",
   "metadata": {},
   "source": [
    "For example, if I have to create a new entry of data then we can add that as shown below."
   ]
  },
  {
   "cell_type": "code",
   "execution_count": 9,
   "id": "e9c8a58c",
   "metadata": {},
   "outputs": [
    {
     "data": {
      "text/plain": [
       "<pymongo.results.InsertOneResult at 0x1f373f8d4f0>"
      ]
     },
     "execution_count": 9,
     "metadata": {},
     "output_type": "execute_result"
    }
   ],
   "source": [
    "record = {'companyName' : 'ineuron' , \n",
    "          'product': 'Affordable AI', \n",
    "          'courseOffered' : 'DL for Computer Vision',\n",
    "          'name' : [\"mohammad\",\"irfan\",(\"mohammad qasim\",456)] }  \n",
    "\n",
    "# mohammad, irfan & (mohammad qasim & 456) will be stored in one array but the later tuple comprises an array as well in mongoDB\n",
    "collection.insert_one(record)"
   ]
  },
  {
   "cell_type": "markdown",
   "id": "653539d4",
   "metadata": {},
   "source": [
    "MongoDB or not only SQL databases is a collection based databases and here comes the difference from mySQL.\n",
    "In mySQL databases, if we want to add a new column then we have to create a new table, but here if I have to change a structure of a particular document then we can do it by adding in previously created collection record."
   ]
  },
  {
   "cell_type": "code",
   "execution_count": 10,
   "id": "830300ee",
   "metadata": {},
   "outputs": [
    {
     "data": {
      "text/plain": [
       "<pymongo.results.InsertOneResult at 0x1f373fcb610>"
      ]
     },
     "execution_count": 10,
     "metadata": {},
     "output_type": "execute_result"
    }
   ],
   "source": [
    "record = {'companyName' : 'ineuron' , \n",
    "          'product': 'Affordable AI', \n",
    "          'courseOffered' : 'DL for Computer Vision',\n",
    "          'name' : [\"mohammad\",\"irfan\",(\"mohammad qasim\",456)],\n",
    "          'record_dict' : {\"name\" : \"tayyu\", \"mail_id\" : \"myselftayyu@gmail.com\", \"mob_no\": 97384384}}  \n",
    "\n",
    "collection.insert_one(record)"
   ]
  },
  {
   "cell_type": "markdown",
   "id": "1ec45c0c",
   "metadata": {},
   "source": [
    "#### Insert multiple records"
   ]
  },
  {
   "cell_type": "code",
   "execution_count": 12,
   "id": "5a8d0f87",
   "metadata": {},
   "outputs": [],
   "source": [
    "list_of_records = [\n",
    "                   {\"CompanyName\" : \"ineuron\",\n",
    "                    \"courseOffered\" : \"MySQL\",\n",
    "                    \"timePeriod\" : 9},\n",
    "    \n",
    "                   {\"StudentName\" : \"Abhishek\",\n",
    "                    \"RollNo\" : 294,\n",
    "                    \"CourseEnrolled\" : \"Java Script\"},\n",
    "    \n",
    "                    {\"EmployeeName\" : [\"Krish Naik\", \"Sudhanshu Kumar\", \"Hitesh Choudhary\"],\n",
    "                     \"EmployeeID\" : [3900, 3202, 2303],\n",
    "                     \"CourseMentor\" : {\"Krish\" : [\"NLP\", \"DL\", \"Stats\"], \"Sudhanshu\": [\"Data Analytics\", \"Python\" ,\"MySQL\"], \"Hitesh\":[\"Java Script\", \"Block Chain\"]}\n",
    "                    }\n",
    "]\n",
    "\n",
    "rec = collection.insert_many(list_of_records)"
   ]
  },
  {
   "cell_type": "code",
   "execution_count": 13,
   "id": "ea992d48",
   "metadata": {
    "scrolled": true
   },
   "outputs": [
    {
     "name": "stdout",
     "output_type": "stream",
     "text": [
      "0 : 62adf9998e6811770e5e134a\n",
      "1 : 62adf9998e6811770e5e134b\n",
      "2 : 62adf9998e6811770e5e134c\n"
     ]
    }
   ],
   "source": [
    "# Let's print the unique ID of the record that we have inserted\n",
    "inserted_IDs = rec.inserted_ids\n",
    "\n",
    "for idx, unique_ids in enumerate(inserted_IDs):\n",
    "    print(f\"{idx} : {unique_ids}\")"
   ]
  },
  {
   "cell_type": "code",
   "execution_count": 25,
   "id": "f4294a4e",
   "metadata": {},
   "outputs": [
    {
     "data": {
      "text/plain": [
       "{'_id': ObjectId('62adeada8e6811770e5e1347'),\n",
       " 'companyName': 'ineuron',\n",
       " 'product': 'Affordable AI',\n",
       " 'courseOffered': 'DL for Computer Vision'}"
      ]
     },
     "execution_count": 25,
     "metadata": {},
     "output_type": "execute_result"
    }
   ],
   "source": [
    "collection.find_one()"
   ]
  },
  {
   "cell_type": "markdown",
   "id": "7596b773",
   "metadata": {},
   "source": [
    "You can override the default unique ID by giving a user defined ID as shown below."
   ]
  },
  {
   "cell_type": "code",
   "execution_count": 20,
   "id": "e2a4977a",
   "metadata": {},
   "outputs": [],
   "source": [
    "my_collection = \"housing data\"\n",
    "collection_name = dataBase[my_collection]\n",
    "\n",
    "record_user_id = [\n",
    "          {\"_id\" : \"1\",\n",
    "          \"bldgName\" : \"Golconda\",\n",
    "          \"resName\" : \"Mohammad Rafi\"},\n",
    "    \n",
    "          {\"_id\" : \"2\",\n",
    "          \"bldgName\" : \"Hastinapur\",\n",
    "          \"resName\" : \"Garv Varshney\"},\n",
    "    \n",
    "          {\"_id\" : \"3\",\n",
    "          \"bldgName\" : \"Musoorie\",\n",
    "          \"resName\" : \"Manish Chauhan\"},\n",
    "    \n",
    "          {\"_id\" : \"4\",\n",
    "          \"bldgName\" : \"Narmada\",\n",
    "          \"resName\" : \"Sukhvinder Kaur\"}\n",
    "]\n",
    "\n",
    "housing_record = collection_name.insert_many(record_user_id)"
   ]
  },
  {
   "cell_type": "markdown",
   "id": "87c07089",
   "metadata": {},
   "source": [
    "#### Find method in MongoDB"
   ]
  },
  {
   "cell_type": "code",
   "execution_count": 24,
   "id": "924bf8e4",
   "metadata": {},
   "outputs": [
    {
     "data": {
      "text/plain": [
       "{'_id': '1', 'bldgName': 'Golconda', 'resName': 'Mohammad Rafi'}"
      ]
     },
     "execution_count": 24,
     "metadata": {},
     "output_type": "execute_result"
    }
   ],
   "source": [
    "collection_name.find_one()"
   ]
  },
  {
   "cell_type": "code",
   "execution_count": 21,
   "id": "0c851868",
   "metadata": {
    "scrolled": true
   },
   "outputs": [
    {
     "name": "stdout",
     "output_type": "stream",
     "text": [
      "The first record of collection: \n",
      "housing data is -->\n",
      " {'_id': '1', 'bldgName': 'Golconda', 'resName': 'Mohammad Rafi'}\n"
     ]
    }
   ],
   "source": [
    "find_first_record = collection_name.find_one()\n",
    "\n",
    "print(f\"The first record of collection: \\n{my_collection} is -->\\n {find_first_record}\")"
   ]
  },
  {
   "cell_type": "code",
   "execution_count": 22,
   "id": "694f677a",
   "metadata": {},
   "outputs": [
    {
     "name": "stdout",
     "output_type": "stream",
     "text": [
      "0 : {'_id': '1', 'bldgName': 'Golconda', 'resName': 'Mohammad Rafi'}\n",
      "1 : {'_id': '2', 'bldgName': 'Hastinapur', 'resName': 'Garv Varshney'}\n",
      "2 : {'_id': '3', 'bldgName': 'Musoorie', 'resName': 'Manish Chauhan'}\n",
      "3 : {'_id': '4', 'bldgName': 'Narmada', 'resName': 'Sukhvinder Kaur'}\n"
     ]
    }
   ],
   "source": [
    "#  Find all the records at once present in the record with all the fields\n",
    "all_records = collection_name.find()\n",
    "\n",
    "for idx, record in enumerate(all_records):\n",
    "    print(f\"{idx} : {record}\")"
   ]
  },
  {
   "cell_type": "code",
   "execution_count": 37,
   "id": "6f2a44f9",
   "metadata": {},
   "outputs": [
    {
     "name": "stdout",
     "output_type": "stream",
     "text": [
      "0 : {'_id': '1', 'resName': 'Mohammad Rafi'}\n",
      "1 : {'_id': '2', 'resName': 'Garv Varshney'}\n",
      "2 : {'_id': '3', 'resName': 'Manish Chauhan'}\n",
      "3 : {'_id': '4', 'resName': 'Sukhvinder Kaur'}\n"
     ]
    }
   ],
   "source": [
    "# Find all records at once present in the field with SPECIFIC fields\n",
    "all_record = collection_name.find({},{\"resName\"})\n",
    "\n",
    "for idx, record in enumerate(all_record):\n",
    "    print(f\"{idx} : {record}\")"
   ]
  },
  {
   "cell_type": "markdown",
   "id": "46876ca3",
   "metadata": {},
   "source": [
    "#### Query or filter out data in MongoDB"
   ]
  },
  {
   "cell_type": "code",
   "execution_count": 39,
   "id": "f0a05e87",
   "metadata": {},
   "outputs": [
    {
     "data": {
      "text/plain": [
       "<pymongo.cursor.Cursor at 0x1f3748f7e20>"
      ]
     },
     "execution_count": 39,
     "metadata": {},
     "output_type": "execute_result"
    }
   ],
   "source": [
    " collection_name.find({\"_id\" : \"1\"})"
   ]
  },
  {
   "cell_type": "code",
   "execution_count": 40,
   "id": "d7f3b572",
   "metadata": {},
   "outputs": [
    {
     "name": "stdout",
     "output_type": "stream",
     "text": [
      "{'_id': '1', 'bldgName': 'Golconda', 'resName': 'Mohammad Rafi'}\n"
     ]
    }
   ],
   "source": [
    "query1 = {\"_id\" : \"1\"}\n",
    "\n",
    "results = collection_name.find(query1)\n",
    "for data in results:\n",
    "    print(data)"
   ]
  },
  {
   "cell_type": "code",
   "execution_count": 42,
   "id": "75d22cf5",
   "metadata": {},
   "outputs": [
    {
     "name": "stdout",
     "output_type": "stream",
     "text": [
      "{'_id': '4', 'bldgName': 'Narmada', 'resName': 'Sukhvinder Kaur'}\n"
     ]
    }
   ],
   "source": [
    " for i in collection_name.find({\"bldgName\" : \"Narmada\"}):\n",
    "        print(i)"
   ]
  },
  {
   "cell_type": "code",
   "execution_count": 43,
   "id": "73054c6c",
   "metadata": {},
   "outputs": [
    {
     "name": "stdout",
     "output_type": "stream",
     "text": [
      "{'_id': '2', 'bldgName': 'Hastinapur', 'resName': 'Garv Varshney'}\n",
      "{'_id': '3', 'bldgName': 'Musoorie', 'resName': 'Manish Chauhan'}\n",
      "{'_id': '4', 'bldgName': 'Narmada', 'resName': 'Sukhvinder Kaur'}\n"
     ]
    }
   ],
   "source": [
    "for i in collection_name.find({\"_id\" : {'$gt':'1'}}):  # for _id greater than 1 \n",
    "    print(i)"
   ]
  },
  {
   "cell_type": "markdown",
   "id": "7562cfe2",
   "metadata": {},
   "source": [
    "#### Delete one or many documents in MongoDB"
   ]
  },
  {
   "cell_type": "code",
   "execution_count": 44,
   "id": "3ad17083",
   "metadata": {},
   "outputs": [
    {
     "data": {
      "text/plain": [
       "<pymongo.results.InsertManyResult at 0x1f37466d130>"
      ]
     },
     "execution_count": 44,
     "metadata": {},
     "output_type": "execute_result"
    }
   ],
   "source": [
    "random_data = [\n",
    "    {'_id' : '5', 'bldgName' : 'Sarnath', 'resName' : 'Ajay Tichkole'},\n",
    "    {'_id' : '6', 'bldgName' : 'Sahyadri', 'resName' : 'Praveen Gokhle'},\n",
    "    {'_id' : '7', 'bldgName' : 'Vindhya', 'resName' : 'Harthal Shah'}\n",
    "]\n",
    "\n",
    "collection_name.insert_many(random_data)"
   ]
  },
  {
   "cell_type": "code",
   "execution_count": 45,
   "id": "974b3c8a",
   "metadata": {},
   "outputs": [
    {
     "data": {
      "text/plain": [
       "<pymongo.results.DeleteResult at 0x1f37471e340>"
      ]
     },
     "execution_count": 45,
     "metadata": {},
     "output_type": "execute_result"
    }
   ],
   "source": [
    "# Let's delete one document in collectioin_name\n",
    "query_to_delete = {'resName' : 'Praveen Gokhle'}\n",
    "\n",
    "collection_name.delete_one(query_to_delete)"
   ]
  },
  {
   "cell_type": "code",
   "execution_count": 46,
   "id": "273cd3f1",
   "metadata": {},
   "outputs": [
    {
     "data": {
      "text/plain": [
       "<pymongo.results.DeleteResult at 0x1f3747015e0>"
      ]
     },
     "execution_count": 46,
     "metadata": {},
     "output_type": "execute_result"
    }
   ],
   "source": [
    "#Let's delete multiple record\n",
    "multi_to_delete = {\"_id\" : {\"$gte\" : \"5\"}}\n",
    "\n",
    "collection_name.delete_many(multi_to_delete)"
   ]
  },
  {
   "cell_type": "code",
   "execution_count": 47,
   "id": "c2e8b39c",
   "metadata": {},
   "outputs": [],
   "source": [
    "#### Drop the entire collection\n",
    "collection_name.drop()"
   ]
  },
  {
   "cell_type": "code",
   "execution_count": null,
   "id": "746a5028",
   "metadata": {},
   "outputs": [],
   "source": [
    "#Let's verify if the collection exists or not after droping it\n",
    "COLLECTION_NAME = \"housing data\"\n",
    "DB_NAME = \"mohai\""
   ]
  }
 ],
 "metadata": {
  "kernelspec": {
   "display_name": "Python 3",
   "language": "python",
   "name": "python3"
  },
  "language_info": {
   "codemirror_mode": {
    "name": "ipython",
    "version": 3
   },
   "file_extension": ".py",
   "mimetype": "text/x-python",
   "name": "python",
   "nbconvert_exporter": "python",
   "pygments_lexer": "ipython3",
   "version": "3.8.8"
  }
 },
 "nbformat": 4,
 "nbformat_minor": 5
}
