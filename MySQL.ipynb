{
 "cells": [
  {
   "cell_type": "code",
   "execution_count": 1,
   "id": "1f96c915",
   "metadata": {},
   "outputs": [
    {
     "name": "stdout",
     "output_type": "stream",
     "text": [
      "Requirement already satisfied: mysql-connector-python in c:\\anaconda\\lib\\site-packages (8.0.29)\n",
      "Collecting protobuf>=3.0.0\n",
      "  Downloading protobuf-4.21.1-cp38-cp38-win_amd64.whl (524 kB)\n",
      "Installing collected packages: protobuf\n",
      "Successfully installed protobuf-4.21.1\n"
     ]
    }
   ],
   "source": [
    "!pip install mysql-connector-python"
   ]
  },
  {
   "cell_type": "code",
   "execution_count": 4,
   "id": "bba92156",
   "metadata": {},
   "outputs": [],
   "source": [
    "import mysql.connector as connection\n",
    "\n",
    "try:\n",
    "    mydb = connection.connect(host = \"localhost\", user = \"root\", passwd = \"mysql123\", use_pure = True)\n",
    "    # to check if the connection is established\n",
    "    \n",
    "    query = \"SHOW DATABASES\"\n",
    "    \n",
    "    cursor = mydb.cursor()   # create a cursor to execute queries\n",
    "    cursor.execute(query)\n",
    "    result = cursor.fetchall()\n",
    "\n",
    "except Exception as e:\n",
    "    mydb.close()\n",
    "    print(\"Error is\", str(e))"
   ]
  },
  {
   "cell_type": "code",
   "execution_count": 5,
   "id": "0ce121e9",
   "metadata": {},
   "outputs": [
    {
     "data": {
      "text/plain": [
       "[('information_schema',),\n",
       " ('mysql',),\n",
       " ('performance_schema',),\n",
       " ('sakila',),\n",
       " ('sys',),\n",
       " ('world',)]"
      ]
     },
     "execution_count": 5,
     "metadata": {},
     "output_type": "execute_result"
    }
   ],
   "source": [
    "result"
   ]
  },
  {
   "cell_type": "code",
   "execution_count": 8,
   "id": "0abfbe80",
   "metadata": {},
   "outputs": [
    {
     "name": "stdout",
     "output_type": "stream",
     "text": [
      "information_schema\n",
      "mysql\n",
      "performance_schema\n",
      "sakila\n",
      "sys\n",
      "world\n"
     ]
    }
   ],
   "source": [
    "for i in result:\n",
    "    print(i[0])"
   ]
  },
  {
   "cell_type": "markdown",
   "id": "20012d6d",
   "metadata": {},
   "source": [
    "If I have to create a new database, then give command in sql as create database db_name or here in python as well by mentioning in the query."
   ]
  },
  {
   "cell_type": "code",
   "execution_count": 11,
   "id": "7fe8e31f",
   "metadata": {},
   "outputs": [],
   "source": [
    "import mysql.connector as connection\n",
    "\n",
    "\n",
    "mydb = connection.connect(host = \"localhost\", user = \"root\", passwd = \"mysql123\", use_pure = True)\n",
    "# to check if the connection is established\n",
    "\n",
    "cursor = mydb.cursor()\n",
    "query = \"create database db_pythn\"\n",
    "cursor.execute(query)"
   ]
  },
  {
   "cell_type": "markdown",
   "id": "319b1155",
   "metadata": {},
   "source": [
    "#### Create a table inside newly created database"
   ]
  },
  {
   "cell_type": "code",
   "execution_count": 28,
   "id": "e7e1af56",
   "metadata": {},
   "outputs": [],
   "source": [
    "mydb = connection.connect(host=\"localhost\", database=\"mydb123\", user=\"root\", passwd=\"mysql123\", use_pure=True)"
   ]
  },
  {
   "cell_type": "code",
   "execution_count": 29,
   "id": "1811dd6a",
   "metadata": {},
   "outputs": [
    {
     "data": {
      "text/plain": [
       "True"
      ]
     },
     "execution_count": 29,
     "metadata": {},
     "output_type": "execute_result"
    }
   ],
   "source": [
    "mydb.is_connected()"
   ]
  },
  {
   "cell_type": "code",
   "execution_count": null,
   "id": "46277546",
   "metadata": {},
   "outputs": [],
   "source": [
    "#create a cursor\n",
    "cur = mydb.cursor()\n",
    "cur.execute(\"create table test(x1 INT(5) , x2 VARCHAR(20) , x3 DATE)\")\n",
    "mydb.close()"
   ]
  },
  {
   "cell_type": "raw",
   "id": "123f3c48",
   "metadata": {},
   "source": [
    "To open in sql :\n",
    "    use db_python\n",
    "    select * from test; select this second line and then execute it to see table."
   ]
  },
  {
   "cell_type": "code",
   "execution_count": 31,
   "id": "08345266",
   "metadata": {},
   "outputs": [],
   "source": [
    "mydb = connection.connect(host=\"localhost\", database = \"db_pythn\", user=\"root\",passwd=\"mysql123\", use_pure=True)\n",
    "cur = mydb.cursor()\n",
    "cur.execute(\"insert into test values(123, 'mohai', '2022-06-17')\")  # accepts date in yyyy-mm-dd format"
   ]
  },
  {
   "cell_type": "code",
   "execution_count": 32,
   "id": "47fb2ee7",
   "metadata": {},
   "outputs": [],
   "source": [
    "mydb.commit()  # data will only be visible in sql after performing commit operation."
   ]
  },
  {
   "cell_type": "code",
   "execution_count": 33,
   "id": "b2f7f458",
   "metadata": {},
   "outputs": [],
   "source": [
    "cur.execute(\"insert into test values(110, 'tayyu', '2022-06-18')\") \n",
    "cur.execute(\"insert into test values(64, 'arham', '2022-06-19')\") \n",
    "cur.execute(\"insert into test values(45, 'amayra', '2022-06-20')\") \n",
    "cur.execute(\"insert into test values(89, 'qasim', '2022-06-21')\")"
   ]
  },
  {
   "cell_type": "code",
   "execution_count": 34,
   "id": "cec205ea",
   "metadata": {},
   "outputs": [],
   "source": [
    "mydb.commit()"
   ]
  },
  {
   "cell_type": "code",
   "execution_count": 35,
   "id": "dcdf0658",
   "metadata": {},
   "outputs": [],
   "source": [
    "cur.execute(\"insert into test values(890, 'qasim', '2022-06-21')\")\n",
    "cur.execute(\"insert into test values(34, 'vinales', '2022-06-22')\")\n",
    "cur.execute(\"insert into test values(454, 'sana', '2022-06-23')\")\n",
    "cur.execute(\"insert into test values(54, 'ayan', '2022-06-24')\")\n",
    "cur.execute(\"insert into test values(45, 'zeeshan', '2022-06-25')\")\n",
    "cur.execute(\"insert into test values(876, 'shabnam', '2022-06-26')\")\n",
    "cur.execute(\"insert into test values(867, 'sweety', '2022-06-27')\")\n",
    "cur.execute(\"insert into test values(33, 'somi', '2022-06-28')\")\n",
    "cur.execute(\"insert into test values(83, 'khushboo', '2022-06-29')\")\n",
    "cur.execute(\"insert into test values(345, 'sarwar', '2022-06-01')\")\n",
    "cur.execute(\"insert into test values(5, 'anwar', '2022-06-02')\")\n",
    "cur.execute(\"insert into test values(84, 'noor', '2022-06-03')\")\n",
    "cur.execute(\"insert into test values(45, 'shifa', '2022-06-04')\")\n",
    "cur.execute(\"insert into test values(62, 'rayyan', '2022-06-05')\")\n",
    "cur.execute(\"insert into test values(48, 'yogendra', '2022-06-06')\")\n",
    "cur.execute(\"insert into test values(28, 'akhilesh', '2022-06-07')\")\n",
    "cur.execute(\"insert into test values(37, 'rahul', '2022-06-08')\")\n",
    "cur.execute(\"insert into test values(27, 'ankur', '2022-06-09')\")\n",
    "cur.execute(\"insert into test values(58, 'srikant', '2022-06-10')\")\n",
    "cur.execute(\"insert into test values(345, 'pathak', '2022-06-11')\")\n",
    "cur.execute(\"insert into test values(83, 'majnu', '2022-06-12')\")\n",
    "cur.execute(\"insert into test values(25, 'pandey', '2022-06-13')\")\n",
    "cur.execute(\"insert into test values(378, 'ravi', '2022-06-14')\")\n",
    "cur.execute(\"insert into test values(43, 'eden', '2022-06-15')\")\n",
    "cur.execute(\"insert into test values(43, 'hazard', '2022-06-16')\")\n",
    "cur.execute(\"insert into test values(363, 'maverick', '2022-06-17')\")"
   ]
  },
  {
   "cell_type": "code",
   "execution_count": 36,
   "id": "3bd93085",
   "metadata": {},
   "outputs": [],
   "source": [
    "mydb.commit()"
   ]
  },
  {
   "cell_type": "code",
   "execution_count": 43,
   "id": "568aa5ea",
   "metadata": {},
   "outputs": [],
   "source": [
    "mydb = connection.connect(host=\"localhost\", database=\"db_pythn\", user=\"root\", passwd=\"mysql123\", use_pure=True)"
   ]
  },
  {
   "cell_type": "code",
   "execution_count": 44,
   "id": "e8646143",
   "metadata": {},
   "outputs": [],
   "source": [
    "cur = mydb.cursor()"
   ]
  },
  {
   "cell_type": "code",
   "execution_count": 45,
   "id": "651efc49",
   "metadata": {},
   "outputs": [],
   "source": [
    "cur.execute(\"select * from test\")"
   ]
  },
  {
   "cell_type": "code",
   "execution_count": 46,
   "id": "266afada",
   "metadata": {},
   "outputs": [
    {
     "name": "stdout",
     "output_type": "stream",
     "text": [
      "(123, 'mohai', datetime.date(2022, 6, 17))\n",
      "(110, 'tayyu', datetime.date(2022, 6, 18))\n",
      "(64, 'arham', datetime.date(2022, 6, 19))\n",
      "(45, 'amayra', datetime.date(2022, 6, 20))\n",
      "(89, 'qasim', datetime.date(2022, 6, 21))\n",
      "(890, 'qasim', datetime.date(2022, 6, 21))\n",
      "(34, 'vinales', datetime.date(2022, 6, 22))\n",
      "(454, 'sana', datetime.date(2022, 6, 23))\n",
      "(54, 'ayan', datetime.date(2022, 6, 24))\n",
      "(45, 'zeeshan', datetime.date(2022, 6, 25))\n",
      "(876, 'shabnam', datetime.date(2022, 6, 26))\n",
      "(867, 'sweety', datetime.date(2022, 6, 27))\n",
      "(33, 'somi', datetime.date(2022, 6, 28))\n",
      "(83, 'khushboo', datetime.date(2022, 6, 29))\n",
      "(345, 'sarwar', datetime.date(2022, 6, 1))\n",
      "(5, 'anwar', datetime.date(2022, 6, 2))\n",
      "(84, 'noor', datetime.date(2022, 6, 3))\n",
      "(45, 'shifa', datetime.date(2022, 6, 4))\n",
      "(62, 'rayyan', datetime.date(2022, 6, 5))\n",
      "(48, 'yogendra', datetime.date(2022, 6, 6))\n",
      "(28, 'akhilesh', datetime.date(2022, 6, 7))\n",
      "(37, 'rahul', datetime.date(2022, 6, 8))\n",
      "(27, 'ankur', datetime.date(2022, 6, 9))\n",
      "(58, 'srikant', datetime.date(2022, 6, 10))\n",
      "(345, 'pathak', datetime.date(2022, 6, 11))\n",
      "(83, 'majnu', datetime.date(2022, 6, 12))\n",
      "(25, 'pandey', datetime.date(2022, 6, 13))\n",
      "(378, 'ravi', datetime.date(2022, 6, 14))\n",
      "(43, 'eden', datetime.date(2022, 6, 15))\n",
      "(43, 'hazard', datetime.date(2022, 6, 16))\n",
      "(363, 'maverick', datetime.date(2022, 6, 17))\n"
     ]
    }
   ],
   "source": [
    "for i in cur.fetchall():\n",
    "    print(i)"
   ]
  },
  {
   "cell_type": "markdown",
   "id": "acde73cb",
   "metadata": {},
   "source": [
    "If I want to select only x1 and x2 column. Then"
   ]
  },
  {
   "cell_type": "code",
   "execution_count": 47,
   "id": "0254e372",
   "metadata": {},
   "outputs": [],
   "source": [
    "cur = mydb.cursor()\n",
    "cur.execute(\"select x1, x2 from test\")"
   ]
  },
  {
   "cell_type": "code",
   "execution_count": 48,
   "id": "073902a3",
   "metadata": {},
   "outputs": [
    {
     "name": "stdout",
     "output_type": "stream",
     "text": [
      "(123, 'mohai')\n",
      "(110, 'tayyu')\n",
      "(64, 'arham')\n",
      "(45, 'amayra')\n",
      "(89, 'qasim')\n",
      "(890, 'qasim')\n",
      "(34, 'vinales')\n",
      "(454, 'sana')\n",
      "(54, 'ayan')\n",
      "(45, 'zeeshan')\n",
      "(876, 'shabnam')\n",
      "(867, 'sweety')\n",
      "(33, 'somi')\n",
      "(83, 'khushboo')\n",
      "(345, 'sarwar')\n",
      "(5, 'anwar')\n",
      "(84, 'noor')\n",
      "(45, 'shifa')\n",
      "(62, 'rayyan')\n",
      "(48, 'yogendra')\n",
      "(28, 'akhilesh')\n",
      "(37, 'rahul')\n",
      "(27, 'ankur')\n",
      "(58, 'srikant')\n",
      "(345, 'pathak')\n",
      "(83, 'majnu')\n",
      "(25, 'pandey')\n",
      "(378, 'ravi')\n",
      "(43, 'eden')\n",
      "(43, 'hazard')\n",
      "(363, 'maverick')\n"
     ]
    }
   ],
   "source": [
    "for i in cur.fetchall():\n",
    "    print(i)"
   ]
  },
  {
   "cell_type": "markdown",
   "id": "6b262ba5",
   "metadata": {},
   "source": [
    "##### To visualise the above data in a proper structured and in neat and clean tabular format we use pandas library."
   ]
  },
  {
   "cell_type": "code",
   "execution_count": 49,
   "id": "0fad177e",
   "metadata": {},
   "outputs": [],
   "source": [
    "import pandas as pd    # library for data visualization gives structured data"
   ]
  },
  {
   "cell_type": "code",
   "execution_count": 50,
   "id": "563b8f62",
   "metadata": {},
   "outputs": [
    {
     "data": {
      "text/plain": [
       "<mysql.connector.connection.MySQLConnection at 0x2e17968bb50>"
      ]
     },
     "execution_count": 50,
     "metadata": {},
     "output_type": "execute_result"
    }
   ],
   "source": [
    "mydb   #to check whether connection is still established."
   ]
  },
  {
   "cell_type": "code",
   "execution_count": 56,
   "id": "54439d7e",
   "metadata": {},
   "outputs": [],
   "source": [
    "rec = pd.read_sql(\"select * from test\", mydb)  # we need not give db name as it is already mentioned in the connection 'mydb'."
   ]
  },
  {
   "cell_type": "code",
   "execution_count": 57,
   "id": "4e056899",
   "metadata": {},
   "outputs": [],
   "source": [
    "rec.to_csv(\"mydata.csv\")  # saves the above rec into my system as a csv file."
   ]
  },
  {
   "cell_type": "markdown",
   "id": "1946f61e",
   "metadata": {},
   "source": [
    "Now, I have to dump this `mydata.csv` into another table."
   ]
  },
  {
   "cell_type": "code",
   "execution_count": 58,
   "id": "726722a7",
   "metadata": {},
   "outputs": [
    {
     "data": {
      "text/plain": [
       "<mysql.connector.connection.MySQLConnection at 0x2e17968bb50>"
      ]
     },
     "execution_count": 58,
     "metadata": {},
     "output_type": "execute_result"
    }
   ],
   "source": [
    "mydb  # checking connection"
   ]
  },
  {
   "cell_type": "code",
   "execution_count": 59,
   "id": "bcf08067",
   "metadata": {},
   "outputs": [],
   "source": [
    "cur = mydb.cursor()\n",
    "cur.execute(\"create table mydata(n1 int(20), n2 varchar(20), n3 date)\")  #new table is created"
   ]
  },
  {
   "cell_type": "code",
   "execution_count": 60,
   "id": "d294efee",
   "metadata": {
    "scrolled": true
   },
   "outputs": [
    {
     "data": {
      "text/html": [
       "<div>\n",
       "<style scoped>\n",
       "    .dataframe tbody tr th:only-of-type {\n",
       "        vertical-align: middle;\n",
       "    }\n",
       "\n",
       "    .dataframe tbody tr th {\n",
       "        vertical-align: top;\n",
       "    }\n",
       "\n",
       "    .dataframe thead th {\n",
       "        text-align: right;\n",
       "    }\n",
       "</style>\n",
       "<table border=\"1\" class=\"dataframe\">\n",
       "  <thead>\n",
       "    <tr style=\"text-align: right;\">\n",
       "      <th></th>\n",
       "      <th>Unnamed: 0</th>\n",
       "      <th>x1</th>\n",
       "      <th>x2</th>\n",
       "      <th>x3</th>\n",
       "    </tr>\n",
       "  </thead>\n",
       "  <tbody>\n",
       "    <tr>\n",
       "      <th>0</th>\n",
       "      <td>0</td>\n",
       "      <td>123</td>\n",
       "      <td>mohai</td>\n",
       "      <td>2022-06-17</td>\n",
       "    </tr>\n",
       "    <tr>\n",
       "      <th>1</th>\n",
       "      <td>1</td>\n",
       "      <td>110</td>\n",
       "      <td>tayyu</td>\n",
       "      <td>2022-06-18</td>\n",
       "    </tr>\n",
       "    <tr>\n",
       "      <th>2</th>\n",
       "      <td>2</td>\n",
       "      <td>64</td>\n",
       "      <td>arham</td>\n",
       "      <td>2022-06-19</td>\n",
       "    </tr>\n",
       "    <tr>\n",
       "      <th>3</th>\n",
       "      <td>3</td>\n",
       "      <td>45</td>\n",
       "      <td>amayra</td>\n",
       "      <td>2022-06-20</td>\n",
       "    </tr>\n",
       "    <tr>\n",
       "      <th>4</th>\n",
       "      <td>4</td>\n",
       "      <td>89</td>\n",
       "      <td>qasim</td>\n",
       "      <td>2022-06-21</td>\n",
       "    </tr>\n",
       "    <tr>\n",
       "      <th>5</th>\n",
       "      <td>5</td>\n",
       "      <td>890</td>\n",
       "      <td>qasim</td>\n",
       "      <td>2022-06-21</td>\n",
       "    </tr>\n",
       "    <tr>\n",
       "      <th>6</th>\n",
       "      <td>6</td>\n",
       "      <td>34</td>\n",
       "      <td>vinales</td>\n",
       "      <td>2022-06-22</td>\n",
       "    </tr>\n",
       "    <tr>\n",
       "      <th>7</th>\n",
       "      <td>7</td>\n",
       "      <td>454</td>\n",
       "      <td>sana</td>\n",
       "      <td>2022-06-23</td>\n",
       "    </tr>\n",
       "    <tr>\n",
       "      <th>8</th>\n",
       "      <td>8</td>\n",
       "      <td>54</td>\n",
       "      <td>ayan</td>\n",
       "      <td>2022-06-24</td>\n",
       "    </tr>\n",
       "    <tr>\n",
       "      <th>9</th>\n",
       "      <td>9</td>\n",
       "      <td>45</td>\n",
       "      <td>zeeshan</td>\n",
       "      <td>2022-06-25</td>\n",
       "    </tr>\n",
       "    <tr>\n",
       "      <th>10</th>\n",
       "      <td>10</td>\n",
       "      <td>876</td>\n",
       "      <td>shabnam</td>\n",
       "      <td>2022-06-26</td>\n",
       "    </tr>\n",
       "    <tr>\n",
       "      <th>11</th>\n",
       "      <td>11</td>\n",
       "      <td>867</td>\n",
       "      <td>sweety</td>\n",
       "      <td>2022-06-27</td>\n",
       "    </tr>\n",
       "    <tr>\n",
       "      <th>12</th>\n",
       "      <td>12</td>\n",
       "      <td>33</td>\n",
       "      <td>somi</td>\n",
       "      <td>2022-06-28</td>\n",
       "    </tr>\n",
       "    <tr>\n",
       "      <th>13</th>\n",
       "      <td>13</td>\n",
       "      <td>83</td>\n",
       "      <td>khushboo</td>\n",
       "      <td>2022-06-29</td>\n",
       "    </tr>\n",
       "    <tr>\n",
       "      <th>14</th>\n",
       "      <td>14</td>\n",
       "      <td>345</td>\n",
       "      <td>sarwar</td>\n",
       "      <td>2022-06-01</td>\n",
       "    </tr>\n",
       "    <tr>\n",
       "      <th>15</th>\n",
       "      <td>15</td>\n",
       "      <td>5</td>\n",
       "      <td>anwar</td>\n",
       "      <td>2022-06-02</td>\n",
       "    </tr>\n",
       "    <tr>\n",
       "      <th>16</th>\n",
       "      <td>16</td>\n",
       "      <td>84</td>\n",
       "      <td>noor</td>\n",
       "      <td>2022-06-03</td>\n",
       "    </tr>\n",
       "    <tr>\n",
       "      <th>17</th>\n",
       "      <td>17</td>\n",
       "      <td>45</td>\n",
       "      <td>shifa</td>\n",
       "      <td>2022-06-04</td>\n",
       "    </tr>\n",
       "    <tr>\n",
       "      <th>18</th>\n",
       "      <td>18</td>\n",
       "      <td>62</td>\n",
       "      <td>rayyan</td>\n",
       "      <td>2022-06-05</td>\n",
       "    </tr>\n",
       "    <tr>\n",
       "      <th>19</th>\n",
       "      <td>19</td>\n",
       "      <td>48</td>\n",
       "      <td>yogendra</td>\n",
       "      <td>2022-06-06</td>\n",
       "    </tr>\n",
       "    <tr>\n",
       "      <th>20</th>\n",
       "      <td>20</td>\n",
       "      <td>28</td>\n",
       "      <td>akhilesh</td>\n",
       "      <td>2022-06-07</td>\n",
       "    </tr>\n",
       "    <tr>\n",
       "      <th>21</th>\n",
       "      <td>21</td>\n",
       "      <td>37</td>\n",
       "      <td>rahul</td>\n",
       "      <td>2022-06-08</td>\n",
       "    </tr>\n",
       "    <tr>\n",
       "      <th>22</th>\n",
       "      <td>22</td>\n",
       "      <td>27</td>\n",
       "      <td>ankur</td>\n",
       "      <td>2022-06-09</td>\n",
       "    </tr>\n",
       "    <tr>\n",
       "      <th>23</th>\n",
       "      <td>23</td>\n",
       "      <td>58</td>\n",
       "      <td>srikant</td>\n",
       "      <td>2022-06-10</td>\n",
       "    </tr>\n",
       "    <tr>\n",
       "      <th>24</th>\n",
       "      <td>24</td>\n",
       "      <td>345</td>\n",
       "      <td>pathak</td>\n",
       "      <td>2022-06-11</td>\n",
       "    </tr>\n",
       "    <tr>\n",
       "      <th>25</th>\n",
       "      <td>25</td>\n",
       "      <td>83</td>\n",
       "      <td>majnu</td>\n",
       "      <td>2022-06-12</td>\n",
       "    </tr>\n",
       "    <tr>\n",
       "      <th>26</th>\n",
       "      <td>26</td>\n",
       "      <td>25</td>\n",
       "      <td>pandey</td>\n",
       "      <td>2022-06-13</td>\n",
       "    </tr>\n",
       "    <tr>\n",
       "      <th>27</th>\n",
       "      <td>27</td>\n",
       "      <td>378</td>\n",
       "      <td>ravi</td>\n",
       "      <td>2022-06-14</td>\n",
       "    </tr>\n",
       "    <tr>\n",
       "      <th>28</th>\n",
       "      <td>28</td>\n",
       "      <td>43</td>\n",
       "      <td>eden</td>\n",
       "      <td>2022-06-15</td>\n",
       "    </tr>\n",
       "    <tr>\n",
       "      <th>29</th>\n",
       "      <td>29</td>\n",
       "      <td>43</td>\n",
       "      <td>hazard</td>\n",
       "      <td>2022-06-16</td>\n",
       "    </tr>\n",
       "    <tr>\n",
       "      <th>30</th>\n",
       "      <td>30</td>\n",
       "      <td>363</td>\n",
       "      <td>maverick</td>\n",
       "      <td>2022-06-17</td>\n",
       "    </tr>\n",
       "  </tbody>\n",
       "</table>\n",
       "</div>"
      ],
      "text/plain": [
       "    Unnamed: 0   x1        x2          x3\n",
       "0            0  123     mohai  2022-06-17\n",
       "1            1  110     tayyu  2022-06-18\n",
       "2            2   64     arham  2022-06-19\n",
       "3            3   45    amayra  2022-06-20\n",
       "4            4   89     qasim  2022-06-21\n",
       "5            5  890     qasim  2022-06-21\n",
       "6            6   34   vinales  2022-06-22\n",
       "7            7  454      sana  2022-06-23\n",
       "8            8   54      ayan  2022-06-24\n",
       "9            9   45   zeeshan  2022-06-25\n",
       "10          10  876   shabnam  2022-06-26\n",
       "11          11  867    sweety  2022-06-27\n",
       "12          12   33      somi  2022-06-28\n",
       "13          13   83  khushboo  2022-06-29\n",
       "14          14  345    sarwar  2022-06-01\n",
       "15          15    5     anwar  2022-06-02\n",
       "16          16   84      noor  2022-06-03\n",
       "17          17   45     shifa  2022-06-04\n",
       "18          18   62    rayyan  2022-06-05\n",
       "19          19   48  yogendra  2022-06-06\n",
       "20          20   28  akhilesh  2022-06-07\n",
       "21          21   37     rahul  2022-06-08\n",
       "22          22   27     ankur  2022-06-09\n",
       "23          23   58   srikant  2022-06-10\n",
       "24          24  345    pathak  2022-06-11\n",
       "25          25   83     majnu  2022-06-12\n",
       "26          26   25    pandey  2022-06-13\n",
       "27          27  378      ravi  2022-06-14\n",
       "28          28   43      eden  2022-06-15\n",
       "29          29   43    hazard  2022-06-16\n",
       "30          30  363  maverick  2022-06-17"
      ]
     },
     "execution_count": 60,
     "metadata": {},
     "output_type": "execute_result"
    }
   ],
   "source": [
    "data = pd.read_csv('mydata.csv')           #read this mydata.csv present in my local system\n",
    "data"
   ]
  },
  {
   "cell_type": "code",
   "execution_count": 63,
   "id": "539d5df6",
   "metadata": {},
   "outputs": [],
   "source": [
    "data1 = pd.read_sql('select * from test', mydb)    # reading my data"
   ]
  },
  {
   "cell_type": "code",
   "execution_count": null,
   "id": "fa73cda4",
   "metadata": {},
   "outputs": [],
   "source": [
    "data1.to_sql('mydata', mydb)  #present data structure not compatible with new table where we want to dump"
   ]
  },
  {
   "cell_type": "code",
   "execution_count": 136,
   "id": "629f8fed",
   "metadata": {},
   "outputs": [],
   "source": [
    "import mysql.connector as connection\n",
    "import pandas as pandas\n",
    "import csv\n",
    "\n",
    "mydb = connection.connect(host=\"localhost\", user=\"root\", passwd = \"mysql123\", use_pure=True)\n",
    "\n",
    "cur = mydb.cursor()\n",
    "cur.execute(\"create table db_pythn.glass3 (`index` int(20),RI float(10,5),Na float(10,5),Mg float(10,5),Al float(10,5),Si float(10,5),K float(10,5),Ca float(10,5),Ba float(10,5),Fe float(10,5),Class int(5))\")\n",
    "# since index is a reserved word hence we use ` before and after."
   ]
  },
  {
   "cell_type": "code",
   "execution_count": 72,
   "id": "b5a849bd",
   "metadata": {},
   "outputs": [
    {
     "name": "stderr",
     "output_type": "stream",
     "text": [
      "'ls' is not recognized as an internal or external command,\n",
      "operable program or batch file.\n"
     ]
    }
   ],
   "source": [
    "!ls"
   ]
  },
  {
   "cell_type": "code",
   "execution_count": 73,
   "id": "dd02ee9a",
   "metadata": {},
   "outputs": [
    {
     "data": {
      "text/plain": [
       "'C:\\\\Users\\\\Mohammad Irfan'"
      ]
     },
     "execution_count": 73,
     "metadata": {},
     "output_type": "execute_result"
    }
   ],
   "source": [
    "pwd()"
   ]
  },
  {
   "cell_type": "code",
   "execution_count": 83,
   "id": "f5add3dc",
   "metadata": {},
   "outputs": [
    {
     "name": "stdout",
     "output_type": "stream",
     "text": [
      "<class 'str'>\n",
      "<class 'str'>\n",
      "<class 'str'>\n",
      "<class 'str'>\n",
      "<class 'str'>\n",
      "<class 'str'>\n",
      "<class 'str'>\n",
      "<class 'str'>\n",
      "<class 'str'>\n",
      "<class 'str'>\n",
      "<class 'str'>\n",
      "<class 'str'>\n",
      "<class 'str'>\n",
      "<class 'str'>\n",
      "<class 'str'>\n",
      "<class 'str'>\n",
      "<class 'str'>\n",
      "<class 'str'>\n",
      "<class 'str'>\n",
      "<class 'str'>\n",
      "<class 'str'>\n",
      "<class 'str'>\n",
      "<class 'str'>\n",
      "<class 'str'>\n",
      "<class 'str'>\n",
      "<class 'str'>\n",
      "<class 'str'>\n",
      "<class 'str'>\n",
      "<class 'str'>\n",
      "<class 'str'>\n",
      "<class 'str'>\n",
      "<class 'str'>\n",
      "<class 'str'>\n",
      "<class 'str'>\n",
      "<class 'str'>\n",
      "<class 'str'>\n",
      "<class 'str'>\n",
      "<class 'str'>\n",
      "<class 'str'>\n",
      "<class 'str'>\n",
      "<class 'str'>\n",
      "<class 'str'>\n",
      "<class 'str'>\n",
      "<class 'str'>\n",
      "<class 'str'>\n",
      "<class 'str'>\n",
      "<class 'str'>\n",
      "<class 'str'>\n",
      "<class 'str'>\n",
      "<class 'str'>\n",
      "<class 'str'>\n",
      "<class 'str'>\n",
      "<class 'str'>\n",
      "<class 'str'>\n",
      "<class 'str'>\n",
      "<class 'str'>\n",
      "<class 'str'>\n",
      "<class 'str'>\n",
      "<class 'str'>\n",
      "<class 'str'>\n",
      "<class 'str'>\n",
      "<class 'str'>\n",
      "<class 'str'>\n",
      "<class 'str'>\n",
      "<class 'str'>\n",
      "<class 'str'>\n",
      "<class 'str'>\n",
      "<class 'str'>\n",
      "<class 'str'>\n",
      "<class 'str'>\n",
      "<class 'str'>\n",
      "<class 'str'>\n",
      "<class 'str'>\n",
      "<class 'str'>\n",
      "<class 'str'>\n",
      "<class 'str'>\n",
      "<class 'str'>\n",
      "<class 'str'>\n",
      "<class 'str'>\n",
      "<class 'str'>\n",
      "<class 'str'>\n",
      "<class 'str'>\n",
      "<class 'str'>\n",
      "<class 'str'>\n",
      "<class 'str'>\n",
      "<class 'str'>\n",
      "<class 'str'>\n",
      "<class 'str'>\n",
      "<class 'str'>\n",
      "<class 'str'>\n",
      "<class 'str'>\n",
      "<class 'str'>\n",
      "<class 'str'>\n",
      "<class 'str'>\n",
      "<class 'str'>\n",
      "<class 'str'>\n",
      "<class 'str'>\n",
      "<class 'str'>\n",
      "<class 'str'>\n",
      "<class 'str'>\n",
      "<class 'str'>\n",
      "<class 'str'>\n",
      "<class 'str'>\n",
      "<class 'str'>\n",
      "<class 'str'>\n",
      "<class 'str'>\n",
      "<class 'str'>\n",
      "<class 'str'>\n",
      "<class 'str'>\n",
      "<class 'str'>\n",
      "<class 'str'>\n",
      "<class 'str'>\n",
      "<class 'str'>\n",
      "<class 'str'>\n",
      "<class 'str'>\n",
      "<class 'str'>\n",
      "<class 'str'>\n",
      "<class 'str'>\n",
      "<class 'str'>\n",
      "<class 'str'>\n",
      "<class 'str'>\n",
      "<class 'str'>\n",
      "<class 'str'>\n",
      "<class 'str'>\n",
      "<class 'str'>\n",
      "<class 'str'>\n",
      "<class 'str'>\n",
      "<class 'str'>\n",
      "<class 'str'>\n",
      "<class 'str'>\n",
      "<class 'str'>\n",
      "<class 'str'>\n",
      "<class 'str'>\n",
      "<class 'str'>\n",
      "<class 'str'>\n",
      "<class 'str'>\n",
      "<class 'str'>\n",
      "<class 'str'>\n",
      "<class 'str'>\n",
      "<class 'str'>\n",
      "<class 'str'>\n",
      "<class 'str'>\n",
      "<class 'str'>\n",
      "<class 'str'>\n",
      "<class 'str'>\n",
      "<class 'str'>\n",
      "<class 'str'>\n",
      "<class 'str'>\n",
      "<class 'str'>\n",
      "<class 'str'>\n",
      "<class 'str'>\n",
      "<class 'str'>\n",
      "<class 'str'>\n",
      "<class 'str'>\n",
      "<class 'str'>\n",
      "<class 'str'>\n",
      "<class 'str'>\n",
      "<class 'str'>\n",
      "<class 'str'>\n",
      "<class 'str'>\n",
      "<class 'str'>\n",
      "<class 'str'>\n",
      "<class 'str'>\n",
      "<class 'str'>\n",
      "<class 'str'>\n",
      "<class 'str'>\n",
      "<class 'str'>\n",
      "<class 'str'>\n",
      "<class 'str'>\n",
      "<class 'str'>\n",
      "<class 'str'>\n",
      "<class 'str'>\n",
      "<class 'str'>\n",
      "<class 'str'>\n",
      "<class 'str'>\n",
      "<class 'str'>\n",
      "<class 'str'>\n",
      "<class 'str'>\n",
      "<class 'str'>\n",
      "<class 'str'>\n",
      "<class 'str'>\n",
      "<class 'str'>\n",
      "<class 'str'>\n",
      "<class 'str'>\n",
      "<class 'str'>\n",
      "<class 'str'>\n",
      "<class 'str'>\n",
      "<class 'str'>\n",
      "<class 'str'>\n",
      "<class 'str'>\n",
      "<class 'str'>\n",
      "<class 'str'>\n",
      "<class 'str'>\n",
      "<class 'str'>\n",
      "<class 'str'>\n",
      "<class 'str'>\n",
      "<class 'str'>\n",
      "<class 'str'>\n",
      "<class 'str'>\n",
      "<class 'str'>\n",
      "<class 'str'>\n",
      "<class 'str'>\n",
      "<class 'str'>\n",
      "<class 'str'>\n",
      "<class 'str'>\n",
      "<class 'str'>\n",
      "<class 'str'>\n",
      "<class 'str'>\n",
      "<class 'str'>\n",
      "<class 'str'>\n",
      "<class 'str'>\n",
      "<class 'str'>\n",
      "<class 'str'>\n",
      "<class 'str'>\n",
      "All the data inserted.\n"
     ]
    }
   ],
   "source": [
    "with open(\"glass.data\" ,\"r\") as data:\n",
    "    next(data)    # skipping the very first row of data as it is a header and doesnot contain data we use `next` function.\n",
    "    data_csv = csv.reader(data, delimiter = \"\\n\")  #converting all our data in csv format\n",
    "    for i in enumerate(data_csv):\n",
    "        #print(i)\n",
    "        for j in i[1]:\n",
    "            print(type(j))\n",
    "            cur.execute('insert into db_pythn.glass values ({data})'.format(data=j))\n",
    "    print(\"All the data inserted.\")\n",
    "mydb.commit()"
   ]
  },
  {
   "cell_type": "code",
   "execution_count": 134,
   "id": "3da10de4",
   "metadata": {},
   "outputs": [
    {
     "name": "stdout",
     "output_type": "stream",
     "text": [
      "All the data inserted.\n"
     ]
    }
   ],
   "source": [
    "with open(\"glass.data\" ,\"r\") as data:\n",
    "    next(data)    \n",
    "    data_csv = csv.reader(data, delimiter = \"\\n\")\n",
    "    for j in data_csv:\n",
    "        #print(type(str(j)))\n",
    "        #print(j[0])    # only giving j will give entire list, so we need to provide first index of j.\n",
    "        cur.execute('insert into db_pythn.glass2 values ({data})'.format(data=j[0]))  # data=j will give error as it is list type.\n",
    "    print(\"All the data inserted.\")\n",
    "mydb.commit()\n",
    "\n",
    "# inside the list string is available and our dataset is available at 0th index"
   ]
  },
  {
   "cell_type": "code",
   "execution_count": 138,
   "id": "c750eba0",
   "metadata": {},
   "outputs": [
    {
     "name": "stdout",
     "output_type": "stream",
     "text": [
      "<class 'str'>\n",
      "<class 'str'>\n",
      "<class 'str'>\n",
      "<class 'str'>\n",
      "<class 'str'>\n",
      "<class 'str'>\n",
      "<class 'str'>\n",
      "<class 'str'>\n",
      "<class 'str'>\n",
      "<class 'str'>\n",
      "<class 'str'>\n",
      "<class 'str'>\n",
      "<class 'str'>\n",
      "<class 'str'>\n",
      "<class 'str'>\n",
      "<class 'str'>\n",
      "<class 'str'>\n",
      "<class 'str'>\n",
      "<class 'str'>\n",
      "<class 'str'>\n",
      "<class 'str'>\n",
      "<class 'str'>\n",
      "<class 'str'>\n",
      "<class 'str'>\n",
      "<class 'str'>\n",
      "<class 'str'>\n",
      "<class 'str'>\n",
      "<class 'str'>\n",
      "<class 'str'>\n",
      "<class 'str'>\n",
      "<class 'str'>\n",
      "<class 'str'>\n",
      "<class 'str'>\n",
      "<class 'str'>\n",
      "<class 'str'>\n",
      "<class 'str'>\n",
      "<class 'str'>\n",
      "<class 'str'>\n",
      "<class 'str'>\n",
      "<class 'str'>\n",
      "<class 'str'>\n",
      "<class 'str'>\n",
      "<class 'str'>\n",
      "<class 'str'>\n",
      "<class 'str'>\n",
      "<class 'str'>\n",
      "<class 'str'>\n",
      "<class 'str'>\n",
      "<class 'str'>\n",
      "<class 'str'>\n",
      "<class 'str'>\n",
      "<class 'str'>\n",
      "<class 'str'>\n",
      "<class 'str'>\n",
      "<class 'str'>\n",
      "<class 'str'>\n",
      "<class 'str'>\n",
      "<class 'str'>\n",
      "<class 'str'>\n",
      "<class 'str'>\n",
      "<class 'str'>\n",
      "<class 'str'>\n",
      "<class 'str'>\n",
      "<class 'str'>\n",
      "<class 'str'>\n",
      "<class 'str'>\n",
      "<class 'str'>\n",
      "<class 'str'>\n",
      "<class 'str'>\n",
      "<class 'str'>\n",
      "<class 'str'>\n",
      "<class 'str'>\n",
      "<class 'str'>\n",
      "<class 'str'>\n",
      "<class 'str'>\n",
      "<class 'str'>\n",
      "<class 'str'>\n",
      "<class 'str'>\n",
      "<class 'str'>\n",
      "<class 'str'>\n",
      "<class 'str'>\n",
      "<class 'str'>\n",
      "<class 'str'>\n",
      "<class 'str'>\n",
      "<class 'str'>\n",
      "<class 'str'>\n",
      "<class 'str'>\n",
      "<class 'str'>\n",
      "<class 'str'>\n",
      "<class 'str'>\n",
      "<class 'str'>\n",
      "<class 'str'>\n",
      "<class 'str'>\n",
      "<class 'str'>\n",
      "<class 'str'>\n",
      "<class 'str'>\n",
      "<class 'str'>\n",
      "<class 'str'>\n",
      "<class 'str'>\n",
      "<class 'str'>\n",
      "<class 'str'>\n",
      "<class 'str'>\n",
      "<class 'str'>\n",
      "<class 'str'>\n",
      "<class 'str'>\n",
      "<class 'str'>\n",
      "<class 'str'>\n",
      "<class 'str'>\n",
      "<class 'str'>\n",
      "<class 'str'>\n",
      "<class 'str'>\n",
      "<class 'str'>\n",
      "<class 'str'>\n",
      "<class 'str'>\n",
      "<class 'str'>\n",
      "<class 'str'>\n",
      "<class 'str'>\n",
      "<class 'str'>\n",
      "<class 'str'>\n",
      "<class 'str'>\n",
      "<class 'str'>\n",
      "<class 'str'>\n",
      "<class 'str'>\n",
      "<class 'str'>\n",
      "<class 'str'>\n",
      "<class 'str'>\n",
      "<class 'str'>\n",
      "<class 'str'>\n",
      "<class 'str'>\n",
      "<class 'str'>\n",
      "<class 'str'>\n",
      "<class 'str'>\n",
      "<class 'str'>\n",
      "<class 'str'>\n",
      "<class 'str'>\n",
      "<class 'str'>\n",
      "<class 'str'>\n",
      "<class 'str'>\n",
      "<class 'str'>\n",
      "<class 'str'>\n",
      "<class 'str'>\n",
      "<class 'str'>\n",
      "<class 'str'>\n",
      "<class 'str'>\n",
      "<class 'str'>\n",
      "<class 'str'>\n",
      "<class 'str'>\n",
      "<class 'str'>\n",
      "<class 'str'>\n",
      "<class 'str'>\n",
      "<class 'str'>\n",
      "<class 'str'>\n",
      "<class 'str'>\n",
      "<class 'str'>\n",
      "<class 'str'>\n",
      "<class 'str'>\n",
      "<class 'str'>\n",
      "<class 'str'>\n",
      "<class 'str'>\n",
      "<class 'str'>\n",
      "<class 'str'>\n",
      "<class 'str'>\n",
      "<class 'str'>\n",
      "<class 'str'>\n",
      "<class 'str'>\n",
      "<class 'str'>\n",
      "<class 'str'>\n",
      "<class 'str'>\n",
      "<class 'str'>\n",
      "<class 'str'>\n",
      "<class 'str'>\n",
      "<class 'str'>\n",
      "<class 'str'>\n",
      "<class 'str'>\n",
      "<class 'str'>\n",
      "<class 'str'>\n",
      "<class 'str'>\n",
      "<class 'str'>\n",
      "<class 'str'>\n",
      "<class 'str'>\n",
      "<class 'str'>\n",
      "<class 'str'>\n",
      "<class 'str'>\n",
      "<class 'str'>\n",
      "<class 'str'>\n",
      "<class 'str'>\n",
      "<class 'str'>\n",
      "<class 'str'>\n",
      "<class 'str'>\n",
      "<class 'str'>\n",
      "<class 'str'>\n",
      "<class 'str'>\n",
      "<class 'str'>\n",
      "<class 'str'>\n",
      "<class 'str'>\n",
      "<class 'str'>\n",
      "<class 'str'>\n",
      "<class 'str'>\n",
      "<class 'str'>\n",
      "<class 'str'>\n",
      "<class 'str'>\n",
      "<class 'str'>\n",
      "<class 'str'>\n",
      "<class 'str'>\n",
      "<class 'str'>\n",
      "<class 'str'>\n",
      "<class 'str'>\n",
      "<class 'str'>\n",
      "<class 'str'>\n",
      "<class 'str'>\n",
      "<class 'str'>\n",
      "<class 'str'>\n",
      "<class 'str'>\n",
      "<class 'str'>\n",
      "<class 'str'>\n",
      "All data inserted.\n"
     ]
    }
   ],
   "source": [
    "with open(\"glass.data\" ,\"r\") as data:  \n",
    "    data_csv = csv.reader(data)\n",
    "    for i in data_csv:\n",
    "    \n",
    "        print(type(j[0]))\n",
    "        cur.execute(f\"insert into db_pythn.glass3 values ({(j[0])})\")\n",
    "    print(\"All data inserted.\")\n",
    "mydb.commit()"
   ]
  },
  {
   "cell_type": "markdown",
   "id": "ceee08bb",
   "metadata": {},
   "source": [
    "#### Delete from SQL table"
   ]
  },
  {
   "cell_type": "code",
   "execution_count": 3,
   "id": "6baf0b12",
   "metadata": {},
   "outputs": [
    {
     "name": "stdout",
     "output_type": "stream",
     "text": [
      "True\n"
     ]
    }
   ],
   "source": [
    "import mysql.connector as connection\n",
    "import csv\n",
    "\n",
    "mydb = connection.connect(host=\"localhost\", database=\"db_pythn\",user=\"root\", passwd=\"mysql123\", use_pure=True)\n",
    "print(mydb.is_connected())\n",
    "\n",
    "query = \"delete from test where x2 = 'rahul'\"\n",
    "cur = mydb.cursor()\n",
    "cur.execute(query)\n",
    "mydb.commit()"
   ]
  },
  {
   "cell_type": "markdown",
   "id": "6ff41d12",
   "metadata": {},
   "source": [
    "#### Update SQL Table from python"
   ]
  },
  {
   "cell_type": "code",
   "execution_count": 4,
   "id": "7430666a",
   "metadata": {},
   "outputs": [],
   "source": [
    "query = \"update test set x1=999, x2='ronaldo' where x1=890\"\n",
    "cursor= mydb.cursor()\n",
    "cursor.execute(query)\n",
    "mydb.commit()"
   ]
  },
  {
   "cell_type": "code",
   "execution_count": null,
   "id": "228924fe",
   "metadata": {},
   "outputs": [],
   "source": []
  }
 ],
 "metadata": {
  "kernelspec": {
   "display_name": "Python 3",
   "language": "python",
   "name": "python3"
  },
  "language_info": {
   "codemirror_mode": {
    "name": "ipython",
    "version": 3
   },
   "file_extension": ".py",
   "mimetype": "text/x-python",
   "name": "python",
   "nbconvert_exporter": "python",
   "pygments_lexer": "ipython3",
   "version": "3.8.8"
  }
 },
 "nbformat": 4,
 "nbformat_minor": 5
}
