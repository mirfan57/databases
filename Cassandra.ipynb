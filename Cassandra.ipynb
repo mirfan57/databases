{
 "cells": [
  {
   "cell_type": "code",
   "execution_count": 1,
   "id": "3bfe225b",
   "metadata": {},
   "outputs": [
    {
     "name": "stdout",
     "output_type": "stream",
     "text": [
      "Requirement already satisfied: cassandra-driver in c:\\anaconda\\lib\\site-packages (3.25.0)\n",
      "Requirement already satisfied: six>=1.9 in c:\\anaconda\\lib\\site-packages (from cassandra-driver) (1.15.0)\n",
      "Requirement already satisfied: geomet<0.3,>=0.1 in c:\\anaconda\\lib\\site-packages (from cassandra-driver) (0.2.1.post1)\n",
      "Requirement already satisfied: click in c:\\anaconda\\lib\\site-packages (from geomet<0.3,>=0.1->cassandra-driver) (7.1.2)\n"
     ]
    }
   ],
   "source": [
    "!pip install cassandra-driver"
   ]
  },
  {
   "cell_type": "code",
   "execution_count": 2,
   "id": "0aab019b",
   "metadata": {},
   "outputs": [
    {
     "name": "stdout",
     "output_type": "stream",
     "text": [
      "3.25.0\n"
     ]
    }
   ],
   "source": [
    "import cassandra\n",
    "print(cassandra.__version__)"
   ]
  },
  {
   "cell_type": "code",
   "execution_count": 3,
   "id": "0660f3d2",
   "metadata": {},
   "outputs": [
    {
     "name": "stdout",
     "output_type": "stream",
     "text": [
      "4.0.0.6816\n"
     ]
    }
   ],
   "source": [
    "from cassandra.cluster import Cluster\n",
    "from cassandra.auth import PlainTextAuthProvider\n",
    "\n",
    "cloud_config= {\n",
    "        'secure_connect_bundle': 'D:\\secure-connect-test.zip'\n",
    "}\n",
    "auth_provider = PlainTextAuthProvider('wGgQwdusawcAgwkEEgsCyqZx', '44EF0fTAOPkCKd1ZkN.aqlX3hhzvNtj2S4j9cC2gHf,n_7iqrEjfHmogGuKlvdyEiRB5pRP0vv-ytEEG5Zi2,4t1dxvjxEy5ZKFSprxnW4v5g_hxXFS00_H_s9ANI-7T')\n",
    "cluster = Cluster(cloud=cloud_config, auth_provider=auth_provider)\n",
    "session = cluster.connect()\n",
    "\n",
    "row = session.execute(\"select release_version from system.local\").one()\n",
    "if row:\n",
    "    print(row[0])\n",
    "else:\n",
    "    print(\"An error occurred.\")"
   ]
  },
  {
   "cell_type": "code",
   "execution_count": 4,
   "id": "efea1c30",
   "metadata": {},
   "outputs": [
    {
     "name": "stdout",
     "output_type": "stream",
     "text": [
      "Row(keyspace_name='system_auth', durable_writes=True, graph_engine=None, replication=OrderedMapSerializedKey([('class', 'org.apache.cassandra.locator.NetworkTopologyStrategy'), ('us-east1', '3')]))\n"
     ]
    }
   ],
   "source": [
    "from cassandra.cluster import Cluster\n",
    "from cassandra.auth import PlainTextAuthProvider\n",
    "\n",
    "cloud_config= {\n",
    "        'secure_connect_bundle': 'D:\\secure-connect-test.zip'\n",
    "}\n",
    "auth_provider = PlainTextAuthProvider('wGgQwdusawcAgwkEEgsCyqZx', '44EF0fTAOPkCKd1ZkN.aqlX3hhzvNtj2S4j9cC2gHf,n_7iqrEjfHmogGuKlvdyEiRB5pRP0vv-ytEEG5Zi2,4t1dxvjxEy5ZKFSprxnW4v5g_hxXFS00_H_s9ANI-7T')\n",
    "cluster = Cluster(cloud=cloud_config, auth_provider=auth_provider)\n",
    "session = cluster.connect()\n",
    "\n",
    "row = session.execute(\"select * from system_schema.keyspaces\").one()\n",
    "if row:\n",
    "    print(row)\n",
    "else:\n",
    "    print(\"An error occurred.\")"
   ]
  },
  {
   "cell_type": "code",
   "execution_count": 7,
   "id": "512c9569",
   "metadata": {},
   "outputs": [
    {
     "ename": "AlreadyExists",
     "evalue": "Table 'cloud.emp' already exists",
     "output_type": "error",
     "traceback": [
      "\u001b[1;31m---------------------------------------------------------------------------\u001b[0m",
      "\u001b[1;31mAlreadyExists\u001b[0m                             Traceback (most recent call last)",
      "\u001b[1;32m<ipython-input-7-413dca3afa26>\u001b[0m in \u001b[0;36m<module>\u001b[1;34m\u001b[0m\n\u001b[0;32m      9\u001b[0m \u001b[0msession\u001b[0m \u001b[1;33m=\u001b[0m \u001b[0mcluster\u001b[0m\u001b[1;33m.\u001b[0m\u001b[0mconnect\u001b[0m\u001b[1;33m(\u001b[0m\u001b[1;33m)\u001b[0m\u001b[1;33m\u001b[0m\u001b[1;33m\u001b[0m\u001b[0m\n\u001b[0;32m     10\u001b[0m \u001b[1;33m\u001b[0m\u001b[0m\n\u001b[1;32m---> 11\u001b[1;33m \u001b[0mrow\u001b[0m \u001b[1;33m=\u001b[0m \u001b[0msession\u001b[0m\u001b[1;33m.\u001b[0m\u001b[0mexecute\u001b[0m\u001b[1;33m(\u001b[0m\u001b[1;34m\"create table cloud.emp(emp_id int primary key, emp_name text, emp_city text, emp_sal varint, emp_phone varint);\"\u001b[0m\u001b[1;33m)\u001b[0m\u001b[1;33m.\u001b[0m\u001b[0mone\u001b[0m\u001b[1;33m(\u001b[0m\u001b[1;33m)\u001b[0m\u001b[1;33m\u001b[0m\u001b[1;33m\u001b[0m\u001b[0m\n\u001b[0m\u001b[0;32m     12\u001b[0m \u001b[1;31m#if row:\u001b[0m\u001b[1;33m\u001b[0m\u001b[1;33m\u001b[0m\u001b[1;33m\u001b[0m\u001b[0m\n\u001b[0;32m     13\u001b[0m \u001b[0mprint\u001b[0m\u001b[1;33m(\u001b[0m\u001b[0mrow\u001b[0m\u001b[1;33m)\u001b[0m\u001b[1;33m\u001b[0m\u001b[1;33m\u001b[0m\u001b[0m\n",
      "\u001b[1;32mC:\\Anaconda\\lib\\site-packages\\cassandra\\cluster.cp38-win_amd64.pyd\u001b[0m in \u001b[0;36mcassandra.cluster.Session.execute\u001b[1;34m()\u001b[0m\n",
      "\u001b[1;32mC:\\Anaconda\\lib\\site-packages\\cassandra\\cluster.cp38-win_amd64.pyd\u001b[0m in \u001b[0;36mcassandra.cluster.ResponseFuture.result\u001b[1;34m()\u001b[0m\n",
      "\u001b[1;31mAlreadyExists\u001b[0m: Table 'cloud.emp' already exists"
     ]
    }
   ],
   "source": [
    "from cassandra.cluster import Cluster\n",
    "from cassandra.auth import PlainTextAuthProvider\n",
    "\n",
    "cloud_config= {\n",
    "        'secure_connect_bundle': 'D:\\secure-connect-test.zip'\n",
    "}\n",
    "auth_provider = PlainTextAuthProvider('wGgQwdusawcAgwkEEgsCyqZx', '44EF0fTAOPkCKd1ZkN.aqlX3hhzvNtj2S4j9cC2gHf,n_7iqrEjfHmogGuKlvdyEiRB5pRP0vv-ytEEG5Zi2,4t1dxvjxEy5ZKFSprxnW4v5g_hxXFS00_H_s9ANI-7T')\n",
    "cluster = Cluster(cloud=cloud_config, auth_provider=auth_provider)\n",
    "session = cluster.connect()\n",
    "\n",
    "try:\n",
    "    row = session.execute(\"create table cloud.emp(emp_id int primary key, emp_name text, emp_city text, emp_sal varint, emp_phone varint);\").one()\n",
    "except:\n",
    "    #if row:\n",
    "    print(row)\n",
    "#else:\n",
    "#    print(\"An error occurred.\")"
   ]
  },
  {
   "cell_type": "code",
   "execution_count": 9,
   "id": "0b6a1539",
   "metadata": {},
   "outputs": [
    {
     "name": "stdout",
     "output_type": "stream",
     "text": [
      "None\n"
     ]
    }
   ],
   "source": [
    "row = session.execute(\"insert into cloud.emp(emp_id, emp_name, emp_city, emp_sal, emp_phone) values (334, 'Irfan', 'Mumbai', 453, 9484)\").one()\n",
    "\n",
    "print(row)"
   ]
  },
  {
   "cell_type": "code",
   "execution_count": 12,
   "id": "01eef110",
   "metadata": {},
   "outputs": [
    {
     "name": "stdout",
     "output_type": "stream",
     "text": [
      "Row(emp_id=334, emp_city='Mumbai', emp_name='Irfan', emp_phone=9484, emp_sal=453)\n"
     ]
    }
   ],
   "source": [
    "row = session.execute(\"select * from cloud.emp\").one()\n",
    "\n",
    "print(row)"
   ]
  },
  {
   "cell_type": "code",
   "execution_count": 11,
   "id": "f39384b8",
   "metadata": {},
   "outputs": [],
   "source": [
    "row = session.execute(\"insert into cloud.emp(emp_id, emp_name, emp_city, emp_sal, emp_phone) values (711, 'Qasim', 'Bombay', 732, 4903)\").one()"
   ]
  },
  {
   "cell_type": "code",
   "execution_count": 15,
   "id": "f3bfe769",
   "metadata": {},
   "outputs": [
    {
     "name": "stdout",
     "output_type": "stream",
     "text": [
      "Row(emp_id=334, emp_city='Mumbai', emp_name='Irfan', emp_phone=9484, emp_sal=453)\n"
     ]
    }
   ],
   "source": [
    "row = session.execute(\"select * from cloud.emp;\").one()\n",
    "\n",
    "print(row)"
   ]
  },
  {
   "cell_type": "code",
   "execution_count": 16,
   "id": "597b50d7",
   "metadata": {},
   "outputs": [],
   "source": [
    "row = session.execute(\"insert into cloud.emp(emp_id, emp_name, emp_city, emp_sal, emp_phone) values (711, 'Qasim', 'Bombay', 771, 490334)\").one()\n",
    "row = session.execute(\"insert into cloud.emp(emp_id, emp_name, emp_city, emp_sal, emp_phone) values (712, 'Maverick', 'Spain', 434, 934394)\").one()\n",
    "row = session.execute(\"insert into cloud.emp(emp_id, emp_name, emp_city, emp_sal, emp_phone) values (713, 'Vinales', 'Italy', 762, 459093)\").one()\n",
    "row = session.execute(\"insert into cloud.emp(emp_id, emp_name, emp_city, emp_sal, emp_phone) values (714, 'Marc', 'Brazil', 232, 982723)\").one()\n",
    "row = session.execute(\"insert into cloud.emp(emp_id, emp_name, emp_city, emp_sal, emp_phone) values (715, 'Marquez', 'Japan', 614, 842933)\").one()"
   ]
  },
  {
   "cell_type": "code",
   "execution_count": 20,
   "id": "95d06594",
   "metadata": {
    "scrolled": true
   },
   "outputs": [
    {
     "name": "stdout",
     "output_type": "stream",
     "text": [
      "Row(emp_id=334, emp_city='Mumbai', emp_name='Irfan', emp_phone=9484, emp_sal=453)\n",
      "Row(emp_id=711, emp_city='Bombay', emp_name='Qasim', emp_phone=490334, emp_sal=771)\n",
      "Row(emp_id=712, emp_city='Spain', emp_name='Maverick', emp_phone=934394, emp_sal=434)\n",
      "Row(emp_id=713, emp_city='Italy', emp_name='Vinales', emp_phone=459093, emp_sal=762)\n",
      "Row(emp_id=716, emp_city='Mexico', emp_name='Raul Gimenez', emp_phone=849375, emp_sal=None)\n",
      "Row(emp_id=714, emp_city='Brazil', emp_name='Marc', emp_phone=982723, emp_sal=232)\n",
      "Row(emp_id=715, emp_city='Japan', emp_name='Marquez', emp_phone=842933, emp_sal=614)\n"
     ]
    }
   ],
   "source": [
    "row = session.execute(\"select * from cloud.emp;\")\n",
    "\n",
    "for i in row:\n",
    "    print(i)"
   ]
  },
  {
   "cell_type": "code",
   "execution_count": 19,
   "id": "fccb3f2f",
   "metadata": {},
   "outputs": [],
   "source": [
    "# not inserting value in emp_salary cloumn\n",
    "row = session.execute(\"insert into cloud.emp(emp_id, emp_name, emp_city, emp_phone) values (716, 'Raul Gimenez', 'Mexico', 849375)\")"
   ]
  },
  {
   "cell_type": "code",
   "execution_count": 22,
   "id": "58d36498",
   "metadata": {},
   "outputs": [],
   "source": [
    "row = session.execute(\"alter table cloud.emp add emp_email varchar\")"
   ]
  },
  {
   "cell_type": "code",
   "execution_count": 23,
   "id": "f68032d7",
   "metadata": {},
   "outputs": [],
   "source": [
    "row = session.execute(\"insert into cloud.emp(emp_id, emp_name, emp_city, emp_sal, emp_phone,emp_email) values (715, 'Marquez', 'Japan', 614, 842933,'hdas@gmial.com')\")"
   ]
  },
  {
   "cell_type": "code",
   "execution_count": 24,
   "id": "feff9870",
   "metadata": {},
   "outputs": [
    {
     "name": "stdout",
     "output_type": "stream",
     "text": [
      "Row(emp_id=334, emp_city='Mumbai', emp_email=None, emp_name='Irfan', emp_phone=9484, emp_sal=453)\n",
      "Row(emp_id=711, emp_city='Bombay', emp_email=None, emp_name='Qasim', emp_phone=490334, emp_sal=771)\n",
      "Row(emp_id=712, emp_city='Spain', emp_email=None, emp_name='Maverick', emp_phone=934394, emp_sal=434)\n",
      "Row(emp_id=713, emp_city='Italy', emp_email=None, emp_name='Vinales', emp_phone=459093, emp_sal=762)\n",
      "Row(emp_id=716, emp_city='Mexico', emp_email=None, emp_name='Raul Gimenez', emp_phone=849375, emp_sal=None)\n",
      "Row(emp_id=714, emp_city='Brazil', emp_email=None, emp_name='Marc', emp_phone=982723, emp_sal=232)\n",
      "Row(emp_id=715, emp_city='Japan', emp_email='hdas@gmial.com', emp_name='Marquez', emp_phone=842933, emp_sal=614)\n"
     ]
    }
   ],
   "source": [
    "row = session.execute(\"select * from cloud.emp;\")\n",
    "\n",
    "for i in row:\n",
    "    print(i)"
   ]
  },
  {
   "cell_type": "code",
   "execution_count": null,
   "id": "c084abf0",
   "metadata": {},
   "outputs": [],
   "source": [
    "#truncating (removing all data from table)\n",
    "row=session.execute(\"TRUNCATE cloud.emp\")"
   ]
  },
  {
   "cell_type": "code",
   "execution_count": 28,
   "id": "84872583",
   "metadata": {},
   "outputs": [],
   "source": [
    "# update existing table\n",
    "row = session.execute(\"update cloud.emp set emp_city='France', emp_email = 'mohs@yahoo.com', emp_name='Jinas' where emp_id = 714\")"
   ]
  },
  {
   "cell_type": "code",
   "execution_count": 29,
   "id": "95c73e66",
   "metadata": {},
   "outputs": [
    {
     "name": "stdout",
     "output_type": "stream",
     "text": [
      "Row(emp_id=334, emp_city='Mumbai', emp_email=None, emp_name='Irfan', emp_phone=9484, emp_sal=453)\n",
      "Row(emp_id=711, emp_city='Bombay', emp_email=None, emp_name='Qasim', emp_phone=490334, emp_sal=771)\n",
      "Row(emp_id=712, emp_city='Spain', emp_email=None, emp_name='Maverick', emp_phone=934394, emp_sal=434)\n",
      "Row(emp_id=713, emp_city='Italy', emp_email=None, emp_name='Vinales', emp_phone=459093, emp_sal=762)\n",
      "Row(emp_id=716, emp_city='Mexico', emp_email=None, emp_name='Raul Gimenez', emp_phone=849375, emp_sal=None)\n",
      "Row(emp_id=714, emp_city='France', emp_email='mohs@yahoo.com', emp_name='Jinas', emp_phone=982723, emp_sal=232)\n",
      "Row(emp_id=715, emp_city='Japan', emp_email='hdas@gmial.com', emp_name='Marquez', emp_phone=842933, emp_sal=614)\n"
     ]
    }
   ],
   "source": [
    "row = session.execute(\"select * from cloud.emp;\")\n",
    "\n",
    "for i in row:\n",
    "    print(i)"
   ]
  },
  {
   "cell_type": "code",
   "execution_count": 30,
   "id": "b3585c55",
   "metadata": {},
   "outputs": [],
   "source": [
    "#delete a particular row or a part of row\n",
    "row=session.execute(\"DELETE emp_email from cloud.emp where emp_id=715\")"
   ]
  },
  {
   "cell_type": "code",
   "execution_count": 31,
   "id": "37ccc92a",
   "metadata": {},
   "outputs": [
    {
     "name": "stdout",
     "output_type": "stream",
     "text": [
      "Row(emp_id=334, emp_city='Mumbai', emp_email=None, emp_name='Irfan', emp_phone=9484, emp_sal=453)\n",
      "Row(emp_id=711, emp_city='Bombay', emp_email=None, emp_name='Qasim', emp_phone=490334, emp_sal=771)\n",
      "Row(emp_id=712, emp_city='Spain', emp_email=None, emp_name='Maverick', emp_phone=934394, emp_sal=434)\n",
      "Row(emp_id=713, emp_city='Italy', emp_email=None, emp_name='Vinales', emp_phone=459093, emp_sal=762)\n",
      "Row(emp_id=716, emp_city='Mexico', emp_email=None, emp_name='Raul Gimenez', emp_phone=849375, emp_sal=None)\n",
      "Row(emp_id=714, emp_city='France', emp_email='mohs@yahoo.com', emp_name='Jinas', emp_phone=982723, emp_sal=232)\n",
      "Row(emp_id=715, emp_city='Japan', emp_email=None, emp_name='Marquez', emp_phone=842933, emp_sal=614)\n"
     ]
    }
   ],
   "source": [
    "row = session.execute(\"select * from cloud.emp;\")\n",
    "\n",
    "for i in row:\n",
    "    print(i)"
   ]
  },
  {
   "cell_type": "code",
   "execution_count": null,
   "id": "60ae5ae1",
   "metadata": {},
   "outputs": [],
   "source": []
  }
 ],
 "metadata": {
  "kernelspec": {
   "display_name": "Python 3",
   "language": "python",
   "name": "python3"
  },
  "language_info": {
   "codemirror_mode": {
    "name": "ipython",
    "version": 3
   },
   "file_extension": ".py",
   "mimetype": "text/x-python",
   "name": "python",
   "nbconvert_exporter": "python",
   "pygments_lexer": "ipython3",
   "version": "3.8.8"
  }
 },
 "nbformat": 4,
 "nbformat_minor": 5
}
